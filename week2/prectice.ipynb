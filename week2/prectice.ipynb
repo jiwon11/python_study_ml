{
 "nbformat": 4,
 "nbformat_minor": 2,
 "metadata": {
  "language_info": {
   "name": "python",
   "codemirror_mode": {
    "name": "ipython",
    "version": 3
   },
   "version": "3.7.6-final"
  },
  "orig_nbformat": 2,
  "file_extension": ".py",
  "mimetype": "text/x-python",
  "name": "python",
  "npconvert_exporter": "python",
  "pygments_lexer": "ipython3",
  "version": 3,
  "kernelspec": {
   "name": "python_ml",
   "display_name": "python_ml"
  }
 },
 "cells": [
  {
   "cell_type": "code",
   "execution_count": 13,
   "metadata": {},
   "outputs": [],
   "source": [
    "from sklearn.preprocessing import LabelEncoder\n",
    "def fillna(df):\n",
    "    df['Age'].fillna(titanic_df['Age'].mean(), inplace=True)\n",
    "    df['Cabin'].fillna('N', inplace=True)\n",
    "    df['Embarked'].fillna('N', inplace=True)\n",
    "    df['Fare'].fillna(0, inplace=True)\n",
    "    return df\n",
    "\n",
    "#머신러닝 알고리즘에 불필요한 속성 제거\n",
    "def drop_features(df):\n",
    "    df.drop(['PassengerId', 'Name', 'Ticket'], axis=1, inplace=True)\n",
    "    return df\n",
    "\n",
    "#레이블 인코딩 수행\n",
    "def format_features(df):\n",
    "    df['Cabin'] = df['Cabin'].str[:1]\n",
    "    features = ['Cabin', 'Sex', 'Embarked']\n",
    "    for feature in features:\n",
    "        le = LabelEncoder()\n",
    "        le = le.fit(df[feature])\n",
    "        df[feature] = le.transform(df[feature])\n",
    "    return df\n",
    "\n",
    "def transform_features(df):\n",
    "    df = fillna(df)\n",
    "    df = drop_features(df)\n",
    "    df = format_features(df)\n",
    "    return df"
   ]
  },
  {
   "cell_type": "code",
   "execution_count": 14,
   "metadata": {},
   "outputs": [
    {
     "name": "stdout",
     "output_type": "stream",
     "text": "오차행렬\n[[104  14]\n [ 13  48]]\n정확도: 0.8492, 정밀도: 0.7742, 재현율: 0.7869\n"
    }
   ],
   "source": [
    "import pandas as pd\n",
    "from sklearn.model_selection import train_test_split\n",
    "from sklearn.linear_model import LogisticRegression\n",
    "\n",
    "titanic_df = pd.read_csv('./titanic_train.csv')\n",
    "y_titanic_df = titanic_df['Survived']\n",
    "X_titanic_df = titanic_df.drop('Survived', axis=1)\n",
    "X_titanic_df = transform_features(X_titanic_df)\n",
    "\n",
    "X_train, X_test, y_train, y_test = train_test_split(X_titanic_df, y_titanic_df, test_size=0.2, random_state=11)\n",
    "\n",
    "lr_clf = LogisticRegression()\n",
    "\n",
    "lr_clf.fit(X_train, y_train)\n",
    "pred = lr_clf.predict(X_test)\n",
    "get_clf_eval(y_test, pred)"
   ]
  },
  {
   "cell_type": "code",
   "execution_count": 18,
   "metadata": {},
   "outputs": [
    {
     "name": "stdout",
     "output_type": "stream",
     "text": "pred_proba() 결과 shape: (179, 2)\npred_proba array에서 앞 3개만 샘플로 추출 \n:[[0.46210752 0.53789248]\n [0.87868089 0.12131911]\n [0.87716101 0.12283899]]\n두 개의 class 중에서 더 큰 확률을 클래스 값으로 예측 \n [[0.46210752 0.53789248 1.        ]\n [0.87868089 0.12131911 0.        ]\n [0.87716101 0.12283899 0.        ]]\n"
    }
   ],
   "source": [
    "import numpy as np\n",
    "\n",
    "pred_proba = lr_clf.predict_proba(X_test)\n",
    "pred = lr_clf.predict(X_test)\n",
    "print(f'pred_proba() 결과 shape: {pred_proba.shape}')\n",
    "print(f'pred_proba array에서 앞 3개만 샘플로 추출 \\n:{pred_proba[:3]}')\n",
    "\n",
    "pred_proba_result = np.concatenate([pred_proba, pred.reshape(-1,1)], axis = 1)\n",
    "print('두 개의 class 중에서 더 큰 확률을 클래스 값으로 예측 \\n', pred_proba_result[:3])"
   ]
  },
  {
   "cell_type": "code",
   "execution_count": 20,
   "metadata": {},
   "outputs": [
    {
     "name": "stdout",
     "output_type": "stream",
     "text": "[[0.53789248]\n [0.12131911]\n [0.12283899]\n [0.1174082 ]\n [0.14461558]\n [0.11778459]\n [0.11157798]\n [0.79117393]\n [0.21704793]\n [0.63065775]\n [0.10022231]\n [0.12493722]\n [0.12284495]\n [0.11162375]\n [0.56331971]\n [0.1410109 ]\n [0.09624082]\n [0.26657306]\n [0.27512926]\n [0.8283008 ]\n [0.24640074]\n [0.38080712]\n [0.14537192]\n [0.1852803 ]\n [0.11199334]\n [0.23449928]\n [0.14035782]\n [0.07415405]\n [0.28039696]\n [0.30437797]\n [0.94717762]\n [0.81724192]\n [0.12684517]\n [0.82611185]\n [0.39932365]\n [0.23449928]\n [0.07237998]\n [0.61085551]\n [0.05289489]\n [0.10391804]\n [0.3508219 ]\n [0.08336214]\n [0.82168265]\n [0.70754453]\n [0.63041004]\n [0.63042628]\n [0.91882337]\n [0.35889493]\n [0.94881756]\n [0.11202777]\n [0.59265842]\n [0.11162375]\n [0.13278582]\n [0.72514861]\n [0.30931558]\n [0.19704277]\n [0.22631982]\n [0.12284003]\n [0.15419186]\n [0.43234499]\n [0.28010599]\n [0.10071566]\n [0.54535719]\n [0.51408311]\n [0.44429239]\n [0.09460203]\n [0.66670251]\n [0.59404061]\n [0.95179236]\n [0.14819224]\n [0.12882713]\n [0.16843074]\n [0.10392028]\n [0.94790875]\n [0.19864195]\n [0.11162375]\n [0.34783553]\n [0.18366938]\n [0.83555262]\n [0.12284003]\n [0.79475408]\n [0.64545931]\n [0.93102027]\n [0.13309582]\n [0.94889998]\n [0.95030388]\n [0.1535364 ]\n [0.12548514]\n [0.87444892]\n [0.11162375]\n [0.11162375]\n [0.23449928]\n [0.23230786]\n [0.11162375]\n [0.63042628]\n [0.07572551]\n [0.92876854]\n [0.10071836]\n [0.5053386 ]\n [0.96506342]\n [0.50147191]\n [0.09437235]\n [0.94788428]\n [0.0975455 ]\n [0.52986225]\n [0.12837434]\n [0.14105779]\n [0.14819193]\n [0.44899818]\n [0.10783911]\n [0.11706701]\n [0.10889029]\n [0.40311886]\n [0.65390047]\n [0.11199334]\n [0.07096462]\n [0.12439058]\n [0.19841243]\n [0.92593485]\n [0.06867346]\n [0.11161493]\n [0.13074899]\n [0.06365444]\n [0.32178994]\n [0.01158277]\n [0.11161493]\n [0.11619403]\n [0.31661035]\n [0.67764786]\n [0.32166206]\n [0.96506342]\n [0.45374078]\n [0.73519918]\n [0.44293488]\n [0.56968471]\n [0.35091453]\n [0.74838142]\n [0.18612917]\n [0.10394536]\n [0.80322693]\n [0.90890218]\n [0.14819193]\n [0.11804572]\n [0.10114263]\n [0.09163703]\n [0.66772533]\n [0.07568059]\n [0.23379253]\n [0.91802514]\n [0.16812474]\n [0.42867753]\n [0.6314343 ]\n [0.63642725]\n [0.1227846 ]\n [0.77759266]\n [0.88061723]\n [0.48717995]\n [0.1329487 ]\n [0.75157557]\n [0.69038551]\n [0.14976497]\n [0.79292022]\n [0.09127764]\n [0.66663519]\n [0.37991947]\n [0.65120554]\n [0.8841729 ]\n [0.3091076 ]\n [0.09165624]\n [0.89292445]\n [0.11157798]\n [0.85407249]\n [0.2506313 ]\n [0.24009707]\n [0.40098102]\n [0.06232042]\n [0.14106479]\n [0.54479202]\n [0.62672818]]\n"
    }
   ],
   "source": [
    "print(pred_proba[:,1].reshape(-1,1))"
   ]
  },
  {
   "cell_type": "code",
   "execution_count": 22,
   "metadata": {},
   "outputs": [
    {
     "name": "stdout",
     "output_type": "stream",
     "text": "[[1.]\n [0.]\n [0.]\n [0.]\n [0.]\n [0.]\n [0.]\n [1.]\n [0.]\n [1.]\n [0.]\n [0.]\n [0.]\n [0.]\n [1.]\n [0.]\n [0.]\n [0.]\n [0.]\n [1.]\n [0.]\n [0.]\n [0.]\n [0.]\n [0.]\n [0.]\n [0.]\n [0.]\n [0.]\n [0.]\n [1.]\n [1.]\n [0.]\n [1.]\n [0.]\n [0.]\n [0.]\n [1.]\n [0.]\n [0.]\n [0.]\n [0.]\n [1.]\n [1.]\n [1.]\n [1.]\n [1.]\n [0.]\n [1.]\n [0.]\n [1.]\n [0.]\n [0.]\n [1.]\n [0.]\n [0.]\n [0.]\n [0.]\n [0.]\n [0.]\n [0.]\n [0.]\n [1.]\n [1.]\n [0.]\n [0.]\n [1.]\n [1.]\n [1.]\n [0.]\n [0.]\n [0.]\n [0.]\n [1.]\n [0.]\n [0.]\n [0.]\n [0.]\n [1.]\n [0.]\n [1.]\n [1.]\n [1.]\n [0.]\n [1.]\n [1.]\n [0.]\n [0.]\n [1.]\n [0.]\n [0.]\n [0.]\n [0.]\n [0.]\n [1.]\n [0.]\n [1.]\n [0.]\n [1.]\n [1.]\n [1.]\n [0.]\n [1.]\n [0.]\n [1.]\n [0.]\n [0.]\n [0.]\n [0.]\n [0.]\n [0.]\n [0.]\n [0.]\n [1.]\n [0.]\n [0.]\n [0.]\n [0.]\n [1.]\n [0.]\n [0.]\n [0.]\n [0.]\n [0.]\n [0.]\n [0.]\n [0.]\n [0.]\n [1.]\n [0.]\n [1.]\n [0.]\n [1.]\n [0.]\n [1.]\n [0.]\n [1.]\n [0.]\n [0.]\n [1.]\n [1.]\n [0.]\n [0.]\n [0.]\n [0.]\n [1.]\n [0.]\n [0.]\n [1.]\n [0.]\n [0.]\n [1.]\n [1.]\n [0.]\n [1.]\n [1.]\n [0.]\n [0.]\n [1.]\n [1.]\n [0.]\n [1.]\n [0.]\n [1.]\n [0.]\n [1.]\n [1.]\n [0.]\n [0.]\n [1.]\n [0.]\n [1.]\n [0.]\n [0.]\n [0.]\n [0.]\n [0.]\n [1.]\n [1.]]\n"
    }
   ],
   "source": [
    "from sklearn.preprocessing import Binarizer\n",
    "\n",
    "pred_proba_1 = pred_proba[:,1].reshape(-1,1)\n",
    "binarizer = Binarizer(threshold=0.5).fit(pred_proba_1)\n",
    "cus_pre = binarizer.transform(pred_proba_1)\n",
    "print(cus_pre)"
   ]
  },
  {
   "cell_type": "code",
   "execution_count": 23,
   "metadata": {},
   "outputs": [
    {
     "name": "stdout",
     "output_type": "stream",
     "text": "오차행렬\n[[104  14]\n [ 13  48]]\n정확도: 0.8492, 정밀도: 0.7742, 재현율: 0.7869\n"
    }
   ],
   "source": [
    "get_clf_eval(y_test, cus_pre)"
   ]
  },
  {
   "cell_type": "code",
   "execution_count": null,
   "metadata": {},
   "outputs": [],
   "source": []
  }
 ]
}