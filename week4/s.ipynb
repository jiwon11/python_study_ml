{
 "nbformat": 4,
 "nbformat_minor": 2,
 "metadata": {
  "language_info": {
   "name": "python",
   "codemirror_mode": {
    "name": "ipython",
    "version": 3
   },
   "version": "3.7.6-final"
  },
  "orig_nbformat": 2,
  "file_extension": ".py",
  "mimetype": "text/x-python",
  "name": "python",
  "npconvert_exporter": "python",
  "pygments_lexer": "ipython3",
  "version": 3,
  "kernelspec": {
   "name": "python_ml",
   "display_name": "python_ml"
  }
 },
 "cells": [
  {
   "cell_type": "code",
   "execution_count": 12,
   "metadata": {},
   "outputs": [
    {
     "output_type": "execute_result",
     "data": {
      "text/plain": "array([0, 2])"
     },
     "metadata": {},
     "execution_count": 12
    }
   ],
   "source": [
    "import numpy as np\n",
    "X = np.arange(4).reshape(2,2)\n",
    "X[:,0]"
   ]
  },
  {
   "cell_type": "code",
   "execution_count": 1,
   "metadata": {},
   "outputs": [
    {
     "output_type": "stream",
     "name": "stdout",
     "text": "\nPlease wait a moment while I gather a list of all available modules...\n\nIPython             audioop             jsonschema          seaborn\nPyQt5               autoreload          jupyter             secrets\n__future__          backcall            jupyter_client      select\n_abc                base64              jupyter_console     selectors\n_ast                bdb                 jupyter_core        send2trash\n_asyncio            binascii            jupyter_notebook_config setuptools\n_bisect             binhex              keyword             shell_exec\n_blake2             bisect              kiwisolver          shelve\n_bootlocale         bleach              lib2to3             shlex\n_bz2                builtins            libfuturize         shutil\n_codecs             bz2                 libpasteurize       signal\n_codecs_cn          cProfile            lightgbm            sip\n_codecs_hk          calendar            linecache           sipconfig\n_codecs_iso2022     certifi             locale              sipdistutils\n_codecs_jp          cgi                 logging             site\n_codecs_kr          cgitb               lzma                six\n_codecs_tw          chunk               macpath             sklearn\n_collections        cmake               mailbox             smtpd\n_collections_abc    cmath               mailcap             smtplib\n_compat_pickle      cmd                 markupsafe          sndhdr\n_compression        code                marshal             socket\n_contextvars        codecs              math                socketserver\n_crypt              codeop              matplotlib          sortImports\n_csv                collections         mimetypes           sqlite3\n_ctypes             colorsys            mistune             sre_compile\n_ctypes_test        compileall          mkl                 sre_constants\n_curses             completion          mkl_fft             sre_parse\n_curses_panel       concurrent          mkl_random          ssl\n_datetime           configparser        mmap                stat\n_dbm                contextlib          modulefinder        statistics\n_decimal            contextvars         multiprocessing     storemagic\n_dummy_thread       copy                nbconvert           string\n_elementtree        copyreg             nbformat            stringprep\n_functools          crypt               netrc               struct\n_hashlib            csv                 nis                 subprocess\n_heapq              ctypes              nntplib             sunau\n_imp                curses              normalizeForInterpreter symbol\n_io                 cycler              notebook            symbolProvider\n_json               cythonmagic         ntpath              sympyprinting\n_locale             dataclasses         nturl2path          symtable\n_lsprof             datetime            numbers             sys\n_lzma               dateutil            numpy               sysconfig\n_markupbase         dbm                 opcode              syslog\n_md5                decimal             operator            tabnanny\n_multibytecodec     decorator           optparse            tarfile\n_multiprocessing    defusedxml          os                  telnetlib\n_opcode             difflib             pandas              tempfile\n_operator           dis                 pandocfilters       terminado\n_osx_support        distutils           parser              termios\n_pickle             doctest             parso               test\n_posixsubprocess    dummy_threading     past                testing_tools\n_py_abc             easy_install        pathlib             testlauncher\n_pydecimal          email               pdb                 testpath\n_pyio               encodings           pexpect             tests\n_pyrsistent_version ensurepip           pickle              textwrap\n_queue              entrypoints         pickleshare         this\n_random             enum                pickletools         threading\n_scproxy            errno               pip                 time\n_sha1               faulthandler        pipes               timeit\n_sha256             fcntl               pkg_resources       tkinter\n_sha3               filecmp             pkgutil             token\n_sha512             fileinput           platform            tokenize\n_signal             fnmatch             plistlib            tornado\n_sitebuiltins       formatter           poplib              trace\n_socket             fractions           posix               traceback\n_sqlite3            ftplib              posixpath           tracemalloc\n_sre                functools           pprint              traitlets\n_ssl                future              printEnvVariables   tty\n_stat               gc                  printEnvVariablesToFile turtle\n_string             genericpath         profile             turtledemo\n_strptime           getopt              prometheus_client   types\n_struct             getpass             prompt_toolkit      typing\n_symtable           gettext             pstats              unicodedata\n_sysconfigdata_aarch64_conda_cos7_linux_gnu glob                ptvsd_launcher      unittest\n_sysconfigdata_i686_conda_cos6_linux_gnu graphviz            pty                 urllib\n_sysconfigdata_m_darwin_darwin grp                 ptyprocess          uu\n_sysconfigdata_powerpc64le_conda_cos7_linux_gnu gzip                pvectorc            uuid\n_sysconfigdata_x86_64_apple_darwin13_4_0 hashlib             pwd                 venv\n_sysconfigdata_x86_64_conda_cos6_linux_gnu heapq               py_compile          visualstudio_py_testlauncher\n_testbuffer         hmac                pyclbr              vscode_datascience_helpers\n_testcapi           html                pydoc               warnings\n_testimportmultiple http                pydoc_data          wave\n_testmultiphase     idlelib             pyexpat             wcwidth\n_thread             imaplib             pygments            weakref\n_threading_local    imblearn            pygraphviz          webbrowser\n_tkinter            imghdr              pylab               webencodings\n_tracemalloc        imp                 pyls_jsonrpc        wheel\n_uuid               importlib           pyparsing           widgetsnbextension\n_warnings           importlib_metadata  pyrsistent          wsgiref\n_weakref            inspect             pytz                xdrlib\n_weakrefset         install_debugpy     qtconsole           xgboost\n_xxtestfuzz         interpreterInfo     queue               xml\nabc                 io                  quopri              xmlrpc\naifc                ipaddress           random              xxlimited\nantigravity         ipykernel           re                  xxsubtype\nappnope             ipykernel_launcher  readline            zipapp\nargparse            ipython_genutils    refactor            zipfile\narray               ipywidgets          reprlib             zipimport\nast                 isort               resource            zipp\nasynchat            itertools           rlcompleter         zlib\nasyncio             jedi                rmagic              zmq\nasyncore            jinja2              runpy               \natexit              joblib              sched               \nattr                json                scipy               \n\nEnter any module name to get more help.  Or, type \"modules spam\" to search\nfor modules whose name or summary contain the string \"spam\".\n\n"
    }
   ],
   "source": [
    "help(\"modules\")"
   ]
  },
  {
   "cell_type": "code",
   "execution_count": null,
   "metadata": {},
   "outputs": [],
   "source": []
  }
 ]
}