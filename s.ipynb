{
 "nbformat": 4,
 "nbformat_minor": 2,
 "metadata": {
  "language_info": {
   "name": "python",
   "codemirror_mode": {
    "name": "ipython",
    "version": 3
   },
   "version": "3.7.6-final"
  },
  "orig_nbformat": 2,
  "file_extension": ".py",
  "mimetype": "text/x-python",
  "name": "python",
  "npconvert_exporter": "python",
  "pygments_lexer": "ipython3",
  "version": 3,
  "kernelspec": {
   "name": "python_ml",
   "display_name": "python_ml"
  }
 },
 "cells": [
  {
   "cell_type": "code",
   "execution_count": 1,
   "metadata": {},
   "outputs": [],
   "source": [
    "import math\n",
    "import numpy as np\n",
    "def kernel_gaussian(u): # u는 원 데이터로부터의 거리 : 원데이터인 170.1로부터 거리가 0인경우 그 데이터는 K(0) ≒ 0.39개 정도 있다고 봐주게 되는 것\n",
    "    x = (1/math.sqrt(2*math.pi))*math.exp(-u**2/2)\n",
    "    return x"
   ]
  },
  {
   "cell_type": "code",
   "execution_count": 2,
   "metadata": {},
   "outputs": [],
   "source": [
    "def kde_example(x,x_i_list,h):\n",
    "    total = 0\n",
    "    total_kernel_x_i = 0\n",
    "    print(f'x : {x}')\n",
    "    for x_i in x_i_list:\n",
    "        u = (x-x_i)/h\n",
    "        kernel = kernel_gaussian(u)\n",
    "        kernel_x_i = kernel*x_i\n",
    "        total = total + kernel\n",
    "        total_kernel_x_i = total_kernel_x_i + kernel_x_i\n",
    "        print(f'x_i : {x_i} | K(u) : {kernel:.3f} | kernel_x_i : {kernel_x_i:.3f}')    \n",
    "    result = total*(1/(len(x_i_list)*h))\n",
    "    print(f'KDE : {result:.4f}')\n",
    "    print(f'c~ : {total_kernel_x_i/total:.1f}')"
   ]
  },
  {
   "cell_type": "code",
   "execution_count": 3,
   "metadata": {},
   "outputs": [
    {
     "output_type": "stream",
     "name": "stdout",
     "text": "x : 149.5\nx_i : 149.5 | K(u) : 0.399 | kernel_x_i : 59.642\nx_i : 150.5 | K(u) : 0.363 | kernel_x_i : 54.626\nx_i : 151.6 | K(u) : 0.263 | kernel_x_i : 39.864\nx_i : 152.2 | K(u) : 0.200 | kernel_x_i : 30.485\nx_i : 158.2 | K(u) : 0.000 | kernel_x_i : 0.049\nx_i : 164.5 | K(u) : 0.000 | kernel_x_i : 0.000\nx_i : 165.6 | K(u) : 0.000 | kernel_x_i : 0.000\nx_i : 169.9 | K(u) : 0.000 | kernel_x_i : 0.000\nx_i : 170.1 | K(u) : 0.000 | kernel_x_i : 0.000\nx_i : 171.3 | K(u) : 0.000 | kernel_x_i : 0.000\nKDE : 0.0533\nc~ : 150.7\n"
    }
   ],
   "source": [
    "x = 149.5\n",
    "x_i_list = [170.1, 165.6, 169.9, 171.3, 164.5, 150.5, 151.6, 158.2, 149.5, 152.2]\n",
    "x_i_list.sort()\n",
    "h = 2.3\n",
    "kde_example(x,x_i_list,h)"
   ]
  },
  {
   "cell_type": "code",
   "execution_count": 4,
   "metadata": {},
   "outputs": [
    {
     "output_type": "stream",
     "name": "stdout",
     "text": "x : 150.7\nx_i : 149.5 | K(u) : 0.348 | kernel_x_i : 52.052\nx_i : 150.5 | K(u) : 0.397 | kernel_x_i : 59.814\nx_i : 151.6 | K(u) : 0.370 | kernel_x_i : 56.022\nx_i : 152.2 | K(u) : 0.323 | kernel_x_i : 49.087\nx_i : 158.2 | K(u) : 0.002 | kernel_x_i : 0.310\nx_i : 164.5 | K(u) : 0.000 | kernel_x_i : 0.000\nx_i : 165.6 | K(u) : 0.000 | kernel_x_i : 0.000\nx_i : 169.9 | K(u) : 0.000 | kernel_x_i : 0.000\nx_i : 170.1 | K(u) : 0.000 | kernel_x_i : 0.000\nx_i : 171.3 | K(u) : 0.000 | kernel_x_i : 0.000\nKDE : 0.0626\nc~ : 150.9\n"
    }
   ],
   "source": [
    "c = 150.7\n",
    "kde_example(c,x_i_list,h)"
   ]
  },
  {
   "cell_type": "code",
   "execution_count": 5,
   "metadata": {},
   "outputs": [
    {
     "output_type": "stream",
     "name": "stdout",
     "text": "x : 150.9\nx_i : 149.5 | K(u) : 0.331 | kernel_x_i : 49.556\nx_i : 150.5 | K(u) : 0.393 | kernel_x_i : 59.140\nx_i : 151.6 | K(u) : 0.381 | kernel_x_i : 57.742\nx_i : 152.2 | K(u) : 0.340 | kernel_x_i : 51.755\nx_i : 158.2 | K(u) : 0.003 | kernel_x_i : 0.410\nx_i : 164.5 | K(u) : 0.000 | kernel_x_i : 0.000\nx_i : 165.6 | K(u) : 0.000 | kernel_x_i : 0.000\nx_i : 169.9 | K(u) : 0.000 | kernel_x_i : 0.000\nx_i : 170.1 | K(u) : 0.000 | kernel_x_i : 0.000\nx_i : 171.3 | K(u) : 0.000 | kernel_x_i : 0.000\nKDE : 0.0630\nc~ : 151.0\n"
    }
   ],
   "source": [
    "c = 150.9\n",
    "kde_example(c,x_i_list,h)"
   ]
  },
  {
   "cell_type": "markdown",
   "metadata": {},
   "source": [
    "계속 c를 계산하는 것을 반복해도 그 값은 150.99에서 151.00사이를 벗어나지 않고 c값이 수렴\n",
    "\n",
    "--> 이 지점이 149.5에서 출발했을때 오르게 되는 최종적인 정상지점\n",
    "\n",
    "![](c.png)"
   ]
  },
  {
   "cell_type": "code",
   "execution_count": null,
   "metadata": {},
   "outputs": [],
   "source": []
  }
 ]
}